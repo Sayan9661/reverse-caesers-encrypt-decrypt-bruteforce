{
 "cells": [
  {
   "cell_type": "code",
   "execution_count": 16,
   "id": "27cd8ca6",
   "metadata": {},
   "outputs": [],
   "source": [
    "alpha = \"ABCDEFGHIJKLMNOPQRSTUVWXYZ\"\n",
    "\n",
    "\n",
    "def decrypt(ciphertext, key):\n",
    "    \n",
    "    letters = []\n",
    "    for letter in ciphertext:\n",
    "        #if the letter is not an alphabet just add it to the message\n",
    "        if letter not in alpha:\n",
    "            letters.append(letter)\n",
    "        #if the letter is an alphabet\n",
    "        else:\n",
    "            #position of letter in alphabets(alpha)\n",
    "            letter_ind = alpha.index(letter)\n",
    "            #after decryption with key\n",
    "            ind = letter_ind - key\n",
    "            #check to see if the letter index is within range that is greater than 0 since we are subtracting key\n",
    "            if ind >= 0:\n",
    "                letters.append(alpha[ind])\n",
    "            else:\n",
    "                #bring to valid index\n",
    "                while ind <= -len(alpha):\n",
    "                    ind = ind + len(alpha)\n",
    "                letters.append(alpha[ind])\n",
    "    #generate final message\n",
    "    decrypted_message=\"\"\n",
    "    for letter in letters:\n",
    "        decrypted_message = decrypted_message+letter\n",
    "    \n",
    "    return decrypted_message\n",
    "\n",
    "\n",
    "\n",
    "\n",
    "\n"
   ]
  },
  {
   "cell_type": "code",
   "execution_count": 15,
   "id": "c80e2b59",
   "metadata": {},
   "outputs": [
    {
     "name": "stdout",
     "output_type": "stream",
     "text": [
      "FRPHEVGL VF VZCBEGNAG\n",
      "1:EQOGDUFK UE UYBADFMZF\n",
      "2:DPNFCTEJ TD TXAZCELYE\n",
      "3:COMEBSDI SC SWZYBDKXD\n",
      "4:BNLDARCH RB RVYXACJWC\n",
      "5:AMKCZQBG QA QUXWZBIVB\n",
      "6:ZLJBYPAF PZ PTWVYAHUA\n",
      "7:YKIAXOZE OY OSVUXZGTZ\n",
      "8:XJHZWNYD NX NRUTWYFSY\n",
      "9:WIGYVMXC MW MQTSVXERX\n",
      "10:VHFXULWB LV LPSRUWDQW\n",
      "11:UGEWTKVA KU KORQTVCPV\n",
      "12:TFDVSJUZ JT JNQPSUBOU\n",
      "13:SECURITY IS IMPORTANT\n",
      "14:RDBTQHSX HR HLONQSZMS\n",
      "15:QCASPGRW GQ GKNMPRYLR\n",
      "16:PBZROFQV FP FJMLOQXKQ\n",
      "17:OAYQNEPU EO EILKNPWJP\n",
      "18:NZXPMDOT DN DHKJMOVIO\n",
      "19:MYWOLCNS CM CGJILNUHN\n",
      "20:LXVNKBMR BL BFIHKMTGM\n",
      "21:KWUMJALQ AK AEHGJLSFL\n",
      "22:JVTLIZKP ZJ ZDGFIKREK\n",
      "23:IUSKHYJO YI YCFEHJQDJ\n",
      "24:HTRJGXIN XH XBEDGIPCI\n",
      "25:GSQIFWHM WG WADCFHOBH\n"
     ]
    }
   ],
   "source": [
    "def bf(encrypted_text):\n",
    "    for k in range(1, 26):\n",
    "        print(f\"{k}:{decrypt(encrypted_text, k)}\")\n",
    "    \n",
    "\n",
    "    \n",
    "encrypted_text=\"FRPHEVGL VF VZCBEGNAG\"\n",
    "print(encrypted_text)\n",
    "bf(encrypted_text)"
   ]
  }
 ],
 "metadata": {
  "kernelspec": {
   "display_name": "Python 3",
   "language": "python",
   "name": "python3"
  },
  "language_info": {
   "codemirror_mode": {
    "name": "ipython",
    "version": 3
   },
   "file_extension": ".py",
   "mimetype": "text/x-python",
   "name": "python",
   "nbconvert_exporter": "python",
   "pygments_lexer": "ipython3",
   "version": "3.8.8"
  }
 },
 "nbformat": 4,
 "nbformat_minor": 5
}
