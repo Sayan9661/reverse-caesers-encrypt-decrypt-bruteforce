{
 "cells": [
  {
   "cell_type": "code",
   "execution_count": 12,
   "id": "1c658eb7",
   "metadata": {},
   "outputs": [
    {
     "name": "stdout",
     "output_type": "stream",
     "text": [
      "BVIBZWXUQ AQ GBQZCKMA\n",
      "SECURITY IS IMPORTANT\n"
     ]
    }
   ],
   "source": [
    "\n",
    "\n",
    "# reverse and caesars for simple symmetric enryption and decryption function.\n",
    "alpha = \"ABCDEFGHIJKLMNOPQRSTUVWXYZ\"\n",
    "\n",
    "\n",
    "def encrypt(org_plaintext, key):\n",
    "   \n",
    "    \n",
    "    #REVERSE plaintextxt\n",
    "    plaintext=''\n",
    "    i = len(org_plaintext) - 1\n",
    "    while i >= 0:\n",
    "        plaintext = plaintext + org_plaintext[i]\n",
    "        i = i - 1\n",
    "    #list to hold the encrypted message    \n",
    "    en_letters = []\n",
    "    for letter in plaintext:\n",
    "        #if the letter is not alphabet just add to encrypted message\n",
    "        if letter not in alpha:\n",
    "            en_letters.append(letter)\n",
    "        #now if the letter is an alphabet    \n",
    "        elif letter in alpha:\n",
    "            plain_letter_index = alpha.index(letter)\n",
    "            encrypted_letter_index = plain_letter_index +key\n",
    "        #check to see if the index is in range of the alphabets    \n",
    "            if encrypted_letter_index<len(alpha) and encrypted_letter_index>=0:\n",
    "                enletters.append(alpha[encrypted_letter_index])\n",
    "        #if it is not in range then find the difference of the length of alphabets and the index and bring within range.    \n",
    "            else: \n",
    "                #check how many letters are left in the apphabets\n",
    "                letters_left = len(alpha) - plain_letter_index\n",
    "                #check if encrypting with key makes invalid index.\n",
    "                ind_after_encryption = letters_left - key\n",
    "                #bring to valid index\n",
    "                while len(alpha) <= ind_after_encryption or ind_after_encryption < 0:\n",
    "                    if ind_after_encryption < 0:\n",
    "                        ind_after_encryption = (ind_after_encryption*-1)\n",
    "                    if ind_after_encryption >= len(alpha):\n",
    "                        ind_after_encryption = ind_after_encryption - len(alpha)\n",
    "                    if ind_after_encryption == len(alpha):\n",
    "                        ind_after_encryption = 0\n",
    "                #add letter to the list        \n",
    "                en_letters.append(alpha[ind_after_encryption])\n",
    "    #generate the final message\n",
    "    final_message=\"\"\n",
    "    for letter in en_letters:\n",
    "        final_message=final_message+letter\n",
    "    \n",
    "    \n",
    "    return final_message\n",
    "\n",
    "  \n",
    "def decrypt(ciphertext, key):\n",
    "    \n",
    "    de_letters = []\n",
    "    for letter in ciphertext:\n",
    "        #if the letter is not an alphabet just add it to the message\n",
    "        if letter not in alpha:\n",
    "            de_letters.append(letter)\n",
    "        #if the letter is an alphabet\n",
    "        elif letter in alpha:\n",
    "            plain_letter_index = alpha.index(letter)\n",
    "            ind = plain_letter_index - key\n",
    "            #check to see if the letter index is within range that is greater than 0 since we are subtracting key\n",
    "            if ind >= 0:\n",
    "                de_letters.append(alpha[ind])\n",
    "            else:\n",
    "                #bring to valid index\n",
    "                while ind <= -len(alpha):\n",
    "                    ind = ind + len(alpha)\n",
    "                de_letters.append(alpha[ind])\n",
    "    #generate final message\n",
    "    final_message=\"\"\n",
    "    for letter in de_letters:\n",
    "        final_message = final_message+letter\n",
    "    \n",
    "    #reverse the letters as encryptions was done to reverse them initially\n",
    "    i=len(final_message)-1\n",
    "    plaintext=''\n",
    "    while i >= 0:\n",
    "        plaintext = plaintext + final_message[i]\n",
    "        i = i - 1\n",
    "    return plaintext\n",
    "\n",
    "\n",
    "message = \"SECURITY IS IMPORTANT\"\n",
    "print(encrypt(message,60))\n",
    "\n",
    "print(decrypt(encrypt(message, 60),60))"
   ]
  },
  {
   "cell_type": "code",
   "execution_count": 13,
   "id": "0ce9530f",
   "metadata": {},
   "outputs": [
    {
     "name": "stdout",
     "output_type": "stream",
     "text": [
      "IKEWWIQ E WM WMLX\n",
      "THIS IS A MESSAGE\n"
     ]
    }
   ],
   "source": [
    "secret_message = \"THIS IS A MESSAGE\"\n",
    "print(encrypt(secret_message, 30))\n",
    "\n",
    "print(decrypt(encrypt(secret_message, 30),30))"
   ]
  },
  {
   "cell_type": "code",
   "execution_count": 14,
   "id": "d5c2bea7",
   "metadata": {
    "scrolled": true
   },
   "outputs": [
    {
     "name": "stdout",
     "output_type": "stream",
     "text": [
      "3 AOWY POAP\n",
      "TEST CASE 3\n"
     ]
    }
   ],
   "source": [
    "secret_message = \"TEST CASE 3\"\n",
    "print(encrypt(secret_message, 100))\n",
    "\n",
    "print(decrypt(encrypt(secret_message,100),100))"
   ]
  },
  {
   "cell_type": "code",
   "execution_count": 15,
   "id": "473cb3f1",
   "metadata": {},
   "outputs": [
    {
     "name": "stdout",
     "output_type": "stream",
     "text": [
      "FNJU MBOJG FTBD UTFU\n",
      "TEST CASE FINAL TIME\n"
     ]
    }
   ],
   "source": [
    "secret_message = \"TEST CASE FINAL TIME\"\n",
    "print(encrypt(secret_message, 53))\n",
    "\n",
    "print(decrypt(encrypt(secret_message,53),53))"
   ]
  }
 ],
 "metadata": {
  "kernelspec": {
   "display_name": "Python 3",
   "language": "python",
   "name": "python3"
  },
  "language_info": {
   "codemirror_mode": {
    "name": "ipython",
    "version": 3
   },
   "file_extension": ".py",
   "mimetype": "text/x-python",
   "name": "python",
   "nbconvert_exporter": "python",
   "pygments_lexer": "ipython3",
   "version": "3.8.8"
  }
 },
 "nbformat": 4,
 "nbformat_minor": 5
}
